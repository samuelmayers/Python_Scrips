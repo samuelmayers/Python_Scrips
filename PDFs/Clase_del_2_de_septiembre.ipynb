{
 "cells": [
  {
   "cell_type": "markdown",
   "metadata": {
    "colab_type": "text",
    "id": "07cwP02Sfo9A"
   },
   "source": [
    "# Cookbook de Samuel Mayers "
   ]
  },
  {
   "cell_type": "markdown",
   "metadata": {
    "colab_type": "text",
    "id": "oh71V5wbZE95"
   },
   "source": [
    "pueba de hola mundo\n"
   ]
  },
  {
   "cell_type": "code",
   "execution_count": null,
   "metadata": {
    "colab": {
     "base_uri": "https://localhost:8080/",
     "height": 34
    },
    "colab_type": "code",
    "id": "7eqp51C0ZGuI",
    "outputId": "88fa2d4b-89ab-4d21-bf16-a4687d02eaca"
   },
   "outputs": [
    {
     "name": "stdout",
     "output_type": "stream",
     "text": [
      "hola mundo\n"
     ]
    }
   ],
   "source": [
    "print('hola mundo')"
   ]
  },
  {
   "cell_type": "markdown",
   "metadata": {
    "colab_type": "text",
    "id": "uZ8C6BFEm-Gu"
   },
   "source": [
    "el comentario se escribe con # \n"
   ]
  },
  {
   "cell_type": "code",
   "execution_count": null,
   "metadata": {
    "colab": {},
    "colab_type": "code",
    "id": "C9EM24TbY3eY"
   },
   "outputs": [],
   "source": [
    "#  el comentario se escribe con # \n"
   ]
  },
  {
   "cell_type": "code",
   "execution_count": null,
   "metadata": {
    "colab": {},
    "colab_type": "code",
    "id": "27Akarx8nYlq"
   },
   "outputs": [],
   "source": [
    "import antigravity"
   ]
  },
  {
   "cell_type": "markdown",
   "metadata": {
    "colab_type": "text",
    "id": "Y9RRNxpSgt7w"
   },
   "source": [
    "# Print"
   ]
  },
  {
   "cell_type": "markdown",
   "metadata": {
    "colab_type": "text",
    "id": "QWtmhtyTkACf"
   },
   "source": [
    "La función print() se usa para enviar texto, números u otra información\n",
    "imprimible a la consola."
   ]
  },
  {
   "cell_type": "code",
   "execution_count": 2,
   "metadata": {
    "colab": {
     "base_uri": "https://localhost:8080/",
     "height": 85
    },
    "colab_type": "code",
    "id": "qtHyWGk_gtuJ",
    "outputId": "3af1fe26-b255-4bb7-be1d-6ec82e25597f"
   },
   "outputs": [
    {
     "name": "stdout",
     "output_type": "stream",
     "text": [
      "Hello Wold!!!\n",
      "1000\n",
      "3.14159265359\n",
      "4.0\n"
     ]
    }
   ],
   "source": [
    "print('Hello Wold!!!')\n",
    "print(1000)\n",
    "pi=3.14159265359\n",
    "print(pi)\n",
    "import math\n",
    "print(math.sqrt(16))"
   ]
  },
  {
   "cell_type": "markdown",
   "metadata": {
    "colab_type": "text",
    "id": "0P38rIoWgafM"
   },
   "source": [
    "# Input"
   ]
  },
  {
   "cell_type": "markdown",
   "metadata": {
    "colab_type": "text",
    "id": "LpxPzqElj6h4"
   },
   "source": [
    "La función input() permite la entrada de datos por parte del usuario.\n"
   ]
  },
  {
   "cell_type": "markdown",
   "metadata": {
    "colab_type": "text",
    "id": "WuV7ngBRoMuF"
   },
   "source": [
    "prueba de entreda de datos"
   ]
  },
  {
   "cell_type": "code",
   "execution_count": null,
   "metadata": {
    "colab": {
     "base_uri": "https://localhost:8080/",
     "height": 68
    },
    "colab_type": "code",
    "id": "kp3SRsTboMK0",
    "outputId": "fee3495c-9f1f-433f-c912-ff0f031806f3"
   },
   "outputs": [
    {
     "name": "stdout",
     "output_type": "stream",
     "text": [
      "Ingrese su nombre:\n",
      "Samuel Mayers\n",
      "Hola,Samuel Mayers\n"
     ]
    }
   ],
   "source": [
    "print ('Ingrese su nombre:')\n",
    "x=input()\n",
    "print('Hola,' + x)"
   ]
  },
  {
   "cell_type": "markdown",
   "metadata": {
    "colab_type": "text",
    "id": "mRUtqsVgqNwu"
   },
   "source": [
    "para continuar una cadena usar un \\ "
   ]
  },
  {
   "cell_type": "code",
   "execution_count": null,
   "metadata": {
    "colab": {
     "base_uri": "https://localhost:8080/",
     "height": 54
    },
    "colab_type": "code",
    "id": "SnBNRXLmqn6o",
    "outputId": "1adf2792-fd70-4b57-aeab-52c9bb6b3901"
   },
   "outputs": [
    {
     "name": "stdout",
     "output_type": "stream",
     "text": [
      "Lorem ipsum dolor sit amet, consectetur adipiscing elit,sed eiusmod tempor incidunt ut labore et dolore magna aliqua.Ut enim ad minim veniam, quis nostrud exercitation ullamcolaboris nisi ut aliquid ex ea commodiconsequat. Quis aute iure reprehenderit in voluptate velit esse cillum dolore eu fugiat nulla pariatur. Excepteur sint obcaecat cupiditat non proident, sunt in culpa qui officia deseruntmollit anim id est laborum.\n"
     ]
    }
   ],
   "source": [
    "print ('Lorem ipsum dolor sit amet, \\\n",
    "consectetur adipiscing elit,\\\n",
    "sed eiusmod tempor incidunt \\\n",
    "ut labore et dolore magna aliqua.\\\n",
    "Ut enim ad minim veniam, \\\n",
    "quis nostrud exercitation ullamco\\\n",
    "laboris nisi ut aliquid ex ea commodi\\\n",
    "consequat. Quis aute iure reprehenderit \\\n",
    "in voluptate velit esse cillum dolore eu \\\n",
    "fugiat nulla pariatur. Excepteur sint \\\n",
    "obcaecat cupiditat non proident, \\\n",
    "sunt in culpa qui officia deserunt\\\n",
    "mollit anim id est laborum.')"
   ]
  },
  {
   "cell_type": "code",
   "execution_count": 7,
   "metadata": {
    "colab": {
     "base_uri": "https://localhost:8080/",
     "height": 51
    },
    "colab_type": "code",
    "id": "ZzOQzxTchpEN",
    "outputId": "b0c6d8a0-3268-4cab-abe7-c04a3e616e9f"
   },
   "outputs": [
    {
     "name": "stdout",
     "output_type": "stream",
     "text": [
      "25\n",
      "5.0\n"
     ]
    }
   ],
   "source": [
    "import math\n",
    "x=input()\n",
    "print(math.sqrt(float(x)))"
   ]
  },
  {
   "cell_type": "code",
   "execution_count": 11,
   "metadata": {
    "colab": {
     "base_uri": "https://localhost:8080/",
     "height": 51
    },
    "colab_type": "code",
    "id": "svzdcFYqic3f",
    "outputId": "4a94cbaf-93c1-4b7b-bf5b-8ab22a3e9bfd"
   },
   "outputs": [
    {
     "name": "stdout",
     "output_type": "stream",
     "text": [
      "81\n",
      "9.0\n"
     ]
    }
   ],
   "source": [
    "import math\n",
    "\n",
    "print(math.sqrt(float(input())))"
   ]
  },
  {
   "cell_type": "markdown",
   "metadata": {
    "colab_type": "text",
    "id": "Jrckb82-x_RZ"
   },
   "source": [
    "# Funciones"
   ]
  },
  {
   "cell_type": "markdown",
   "metadata": {
    "colab_type": "text",
    "id": "Qo7y54Fzj1iT"
   },
   "source": [
    "Algunas tareas deben realizarse varias veces dentro de un programa. En lugar\n",
    "de reescribir el mismo código en múltiples lugares, se puede definir una función\n",
    "usando la palabra clave def"
   ]
  },
  {
   "cell_type": "code",
   "execution_count": null,
   "metadata": {
    "colab": {
     "base_uri": "https://localhost:8080/",
     "height": 68
    },
    "colab_type": "code",
    "id": "STUY0zUeyEJb",
    "outputId": "f8926016-7973-4626-b93d-03ad4478b689"
   },
   "outputs": [
    {
     "name": "stdout",
     "output_type": "stream",
     "text": [
      "3\n",
      "9\n"
     ]
    },
    {
     "data": {
      "text/plain": [
       "8"
      ]
     },
     "execution_count": 13,
     "metadata": {
      "tags": []
     },
     "output_type": "execute_result"
    }
   ],
   "source": [
    "def my_function(x):\n",
    "  return x + 1\n",
    "  \n",
    "print(my_function(2))\n",
    "\n",
    "print(my_function(3+5))\n",
    "\n",
    "my_function(7) # si no tene un prin el te ase el favor de iprimirtelo \n"
   ]
  },
  {
   "cell_type": "markdown",
   "metadata": {
    "colab_type": "text",
    "id": "ZBAOvpwmzQej"
   },
   "source": [
    "# IF"
   ]
  },
  {
   "cell_type": "markdown",
   "metadata": {
    "colab_type": "text",
    "id": "zNzF0kFAjx7M"
   },
   "source": [
    "La instrucción if de Python se utiliza para determinar la ejecución del código en\n",
    "función de la evaluación de una expresión booleana."
   ]
  },
  {
   "cell_type": "code",
   "execution_count": 14,
   "metadata": {
    "colab": {
     "base_uri": "https://localhost:8080/",
     "height": 51
    },
    "colab_type": "code",
    "id": "dQqOCWMOzYhZ",
    "outputId": "ca58e65b-b7a2-4d67-d277-f34f7046920c"
   },
   "outputs": [
    {
     "name": "stdout",
     "output_type": "stream",
     "text": [
      "50\n",
      "the value is positive\n"
     ]
    }
   ],
   "source": [
    "test_value=int(input())\n",
    "if test_value <1:\n",
    "  print('the value is negative')\n",
    "else:\n",
    "  print('the value is positive')"
   ]
  }
 ],
 "metadata": {
  "colab": {
   "collapsed_sections": [],
   "name": "Clase del 2 de septiembre ",
   "provenance": [],
   "version": "0.3.2"
  },
  "kernelspec": {
   "display_name": "Python 3",
   "language": "python",
   "name": "python3"
  },
  "language_info": {
   "codemirror_mode": {
    "name": "ipython",
    "version": 3
   },
   "file_extension": ".py",
   "mimetype": "text/x-python",
   "name": "python",
   "nbconvert_exporter": "python",
   "pygments_lexer": "ipython3",
   "version": "3.7.4"
  }
 },
 "nbformat": 4,
 "nbformat_minor": 4
}
